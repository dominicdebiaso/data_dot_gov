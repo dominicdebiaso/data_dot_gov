{
 "cells": [
  {
   "cell_type": "code",
   "execution_count": 62,
   "metadata": {
    "collapsed": false
   },
   "outputs": [],
   "source": [
    "import pandas as pd\n",
    "import numpy as np\n",
    "import matplotlib.pyplot as plt\n",
    "import seaborn as sns\n",
    "\n",
    "%matplotlib inline\n",
    "\n",
    "sns.set_style(\"white\", {'ytick.major.size': 5.0})\n",
    "sns.set_context(\"poster\", font_scale=1.0)"
   ]
  },
  {
   "cell_type": "code",
   "execution_count": 10,
   "metadata": {
    "collapsed": false
   },
   "outputs": [],
   "source": [
    "df = pd.read_csv(\"/Users/dominicdebiaso/Development/datasets/crime_incidents_2013.csv\")\n",
    "\n",
    "# lowercase the column names\n",
    "df.columns = map(str.lower, df.columns)\n",
    "# rename 'shift' to 'timeshift', pd did not like 'df.shift'\n",
    "df.rename(columns={'shift':'timeshift'}, inplace=True)"
   ]
  },
  {
   "cell_type": "code",
   "execution_count": 11,
   "metadata": {
    "collapsed": false
   },
   "outputs": [
    {
     "data": {
      "text/html": [
       "<div>\n",
       "<table border=\"1\" class=\"dataframe\">\n",
       "  <thead>\n",
       "    <tr style=\"text-align: right;\">\n",
       "      <th></th>\n",
       "      <th>ccn</th>\n",
       "      <th>reportdatetime</th>\n",
       "      <th>timeshift</th>\n",
       "      <th>offense</th>\n",
       "      <th>method</th>\n",
       "      <th>lastmodifieddate</th>\n",
       "      <th>blocksiteaddress</th>\n",
       "      <th>blockxcoord</th>\n",
       "      <th>blockycoord</th>\n",
       "      <th>ward</th>\n",
       "      <th>anc</th>\n",
       "      <th>district</th>\n",
       "      <th>psa</th>\n",
       "      <th>neighborhoodcluster</th>\n",
       "      <th>businessimprovementdistrict</th>\n",
       "      <th>block_group</th>\n",
       "      <th>census_tract</th>\n",
       "      <th>voting_precinct</th>\n",
       "      <th>start_date</th>\n",
       "      <th>end_date</th>\n",
       "    </tr>\n",
       "  </thead>\n",
       "  <tbody>\n",
       "    <tr>\n",
       "      <th>0</th>\n",
       "      <td>4104147</td>\n",
       "      <td>4/16/2013 12:00:00 AM</td>\n",
       "      <td>MIDNIGHT</td>\n",
       "      <td>HOMICIDE</td>\n",
       "      <td>KNIFE</td>\n",
       "      <td>6/29/2015 8:34:06 AM</td>\n",
       "      <td>1500 - 1599 BLOCK OF 1ST STREET SW</td>\n",
       "      <td>398943</td>\n",
       "      <td>133729</td>\n",
       "      <td>6</td>\n",
       "      <td>6D</td>\n",
       "      <td>FIRST</td>\n",
       "      <td>105</td>\n",
       "      <td>9</td>\n",
       "      <td>NaN</td>\n",
       "      <td>006400 2</td>\n",
       "      <td>6400</td>\n",
       "      <td>Precinct 127</td>\n",
       "      <td>7/27/2004 8:30:00 PM</td>\n",
       "      <td>7/27/2004 8:30:00 PM</td>\n",
       "    </tr>\n",
       "    <tr>\n",
       "      <th>1</th>\n",
       "      <td>5047867</td>\n",
       "      <td>6/5/2013 12:00:00 AM</td>\n",
       "      <td>MIDNIGHT</td>\n",
       "      <td>SEX ABUSE</td>\n",
       "      <td>KNIFE</td>\n",
       "      <td>6/29/2015 8:34:34 AM</td>\n",
       "      <td>6500  - 6599 BLOCK OF PINEY BRANCH ROAD NW</td>\n",
       "      <td>397769</td>\n",
       "      <td>144596</td>\n",
       "      <td>4</td>\n",
       "      <td>4B</td>\n",
       "      <td>FOURTH</td>\n",
       "      <td>402</td>\n",
       "      <td>17</td>\n",
       "      <td>NaN</td>\n",
       "      <td>001901 4</td>\n",
       "      <td>1901</td>\n",
       "      <td>Precinct 59</td>\n",
       "      <td>4/15/2005 12:30:00 PM</td>\n",
       "      <td>NaN</td>\n",
       "    </tr>\n",
       "    <tr>\n",
       "      <th>2</th>\n",
       "      <td>7083463</td>\n",
       "      <td>7/8/2013 12:00:00 AM</td>\n",
       "      <td>MIDNIGHT</td>\n",
       "      <td>SEX ABUSE</td>\n",
       "      <td>OTHERS</td>\n",
       "      <td>6/29/2015 8:34:32 AM</td>\n",
       "      <td>1800 - 1810 BLOCK OF COLUMBIA ROAD NW</td>\n",
       "      <td>396275</td>\n",
       "      <td>139402</td>\n",
       "      <td>1</td>\n",
       "      <td>1C</td>\n",
       "      <td>THIRD</td>\n",
       "      <td>303</td>\n",
       "      <td>1</td>\n",
       "      <td>ADAMS MORGAN</td>\n",
       "      <td>004002 1</td>\n",
       "      <td>4002</td>\n",
       "      <td>Precinct 25</td>\n",
       "      <td>7/14/2007 3:00:00 PM</td>\n",
       "      <td>NaN</td>\n",
       "    </tr>\n",
       "    <tr>\n",
       "      <th>3</th>\n",
       "      <td>9172197</td>\n",
       "      <td>4/8/2013 12:00:00 AM</td>\n",
       "      <td>MIDNIGHT</td>\n",
       "      <td>SEX ABUSE</td>\n",
       "      <td>OTHERS</td>\n",
       "      <td>6/29/2015 8:33:29 AM</td>\n",
       "      <td>2322 - 2499 BLOCK OF ONTARIO ROAD NW</td>\n",
       "      <td>396518</td>\n",
       "      <td>139335</td>\n",
       "      <td>1</td>\n",
       "      <td>1C</td>\n",
       "      <td>THIRD</td>\n",
       "      <td>303</td>\n",
       "      <td>1</td>\n",
       "      <td>NaN</td>\n",
       "      <td>003800 1</td>\n",
       "      <td>3800</td>\n",
       "      <td>Precinct 24</td>\n",
       "      <td>5/22/2009 1:00:00 PM</td>\n",
       "      <td>5/22/2009 3:00:00 AM</td>\n",
       "    </tr>\n",
       "    <tr>\n",
       "      <th>4</th>\n",
       "      <td>9251354</td>\n",
       "      <td>2/27/2013 12:00:00 AM</td>\n",
       "      <td>MIDNIGHT</td>\n",
       "      <td>SEX ABUSE</td>\n",
       "      <td>OTHERS</td>\n",
       "      <td>6/29/2015 8:33:47 AM</td>\n",
       "      <td>2500 - 2699 BLOCK OF VIRGINIA AVENUE NW</td>\n",
       "      <td>395232</td>\n",
       "      <td>136881</td>\n",
       "      <td>2</td>\n",
       "      <td>2A</td>\n",
       "      <td>SECOND</td>\n",
       "      <td>207</td>\n",
       "      <td>5</td>\n",
       "      <td>NaN</td>\n",
       "      <td>005600 2</td>\n",
       "      <td>5600</td>\n",
       "      <td>Precinct 3</td>\n",
       "      <td>1/1/2009 2:05:00 PM</td>\n",
       "      <td>1/1/2009 3:00:00 PM</td>\n",
       "    </tr>\n",
       "  </tbody>\n",
       "</table>\n",
       "</div>"
      ],
      "text/plain": [
       "       ccn         reportdatetime timeshift    offense  method  \\\n",
       "0  4104147  4/16/2013 12:00:00 AM  MIDNIGHT   HOMICIDE   KNIFE   \n",
       "1  5047867   6/5/2013 12:00:00 AM  MIDNIGHT  SEX ABUSE   KNIFE   \n",
       "2  7083463   7/8/2013 12:00:00 AM  MIDNIGHT  SEX ABUSE  OTHERS   \n",
       "3  9172197   4/8/2013 12:00:00 AM  MIDNIGHT  SEX ABUSE  OTHERS   \n",
       "4  9251354  2/27/2013 12:00:00 AM  MIDNIGHT  SEX ABUSE  OTHERS   \n",
       "\n",
       "       lastmodifieddate                            blocksiteaddress  \\\n",
       "0  6/29/2015 8:34:06 AM          1500 - 1599 BLOCK OF 1ST STREET SW   \n",
       "1  6/29/2015 8:34:34 AM  6500  - 6599 BLOCK OF PINEY BRANCH ROAD NW   \n",
       "2  6/29/2015 8:34:32 AM       1800 - 1810 BLOCK OF COLUMBIA ROAD NW   \n",
       "3  6/29/2015 8:33:29 AM        2322 - 2499 BLOCK OF ONTARIO ROAD NW   \n",
       "4  6/29/2015 8:33:47 AM     2500 - 2699 BLOCK OF VIRGINIA AVENUE NW   \n",
       "\n",
       "   blockxcoord  blockycoord  ward anc district  psa  neighborhoodcluster  \\\n",
       "0       398943       133729     6  6D    FIRST  105                    9   \n",
       "1       397769       144596     4  4B   FOURTH  402                   17   \n",
       "2       396275       139402     1  1C    THIRD  303                    1   \n",
       "3       396518       139335     1  1C    THIRD  303                    1   \n",
       "4       395232       136881     2  2A   SECOND  207                    5   \n",
       "\n",
       "  businessimprovementdistrict block_group  census_tract voting_precinct  \\\n",
       "0                         NaN    006400 2          6400    Precinct 127   \n",
       "1                         NaN    001901 4          1901     Precinct 59   \n",
       "2                ADAMS MORGAN    004002 1          4002     Precinct 25   \n",
       "3                         NaN    003800 1          3800     Precinct 24   \n",
       "4                         NaN    005600 2          5600      Precinct 3   \n",
       "\n",
       "              start_date              end_date  \n",
       "0   7/27/2004 8:30:00 PM  7/27/2004 8:30:00 PM  \n",
       "1  4/15/2005 12:30:00 PM                   NaN  \n",
       "2   7/14/2007 3:00:00 PM                   NaN  \n",
       "3   5/22/2009 1:00:00 PM  5/22/2009 3:00:00 AM  \n",
       "4    1/1/2009 2:05:00 PM   1/1/2009 3:00:00 PM  "
      ]
     },
     "execution_count": 11,
     "metadata": {},
     "output_type": "execute_result"
    }
   ],
   "source": [
    "df.head()"
   ]
  },
  {
   "cell_type": "code",
   "execution_count": 16,
   "metadata": {
    "collapsed": false
   },
   "outputs": [
    {
     "name": "stdout",
     "output_type": "stream",
     "text": [
      "(35896, 20)\n",
      "ccn                                0\n",
      "reportdatetime                     0\n",
      "timeshift                          0\n",
      "offense                            0\n",
      "method                             0\n",
      "lastmodifieddate                   0\n",
      "blocksiteaddress                   0\n",
      "blockxcoord                        0\n",
      "blockycoord                        0\n",
      "ward                               3\n",
      "anc                                0\n",
      "district                           0\n",
      "psa                                0\n",
      "neighborhoodcluster              456\n",
      "businessimprovementdistrict    30733\n",
      "block_group                      141\n",
      "census_tract                     141\n",
      "voting_precinct                   12\n",
      "start_date                         1\n",
      "end_date                          27\n",
      "dtype: int64\n"
     ]
    }
   ],
   "source": [
    "### Data Cleansing\n",
    "print df.shape\n",
    "# How many are missing or contain NaNs?\n",
    "print df.isnull().sum()\n"
   ]
  },
  {
   "cell_type": "code",
   "execution_count": 68,
   "metadata": {
    "collapsed": false
   },
   "outputs": [
    {
     "data": {
      "image/png": "[encoded data removed]",
      "text/plain": [
       "<matplotlib.figure.Figure at 0x118556910>"
      ]
     },
     "metadata": {},
     "output_type": "display_data"
    }
   ],
   "source": [
    "## Data Visualization\n",
    "ddtype='offense'\n",
    "df[str(ddtype)].value_counts(dropna=False).plot(kind='bar', width=0.5,color='#00c2ff')\n",
    "plt.xlabel(str(ddtype))\n",
    "sns.despine()"
   ]
  },
  {
   "cell_type": "code",
   "execution_count": null,
   "metadata": {
    "collapsed": false
   },
   "outputs": [],
   "source": [
    "## Data Quality"
   ]
  },
  {
   "cell_type": "code",
   "execution_count": null,
   "metadata": {
    "collapsed": true
   },
   "outputs": [],
   "source": [
    "## Data Splitting"
   ]
  },
  {
   "cell_type": "code",
   "execution_count": null,
   "metadata": {
    "collapsed": true
   },
   "outputs": [],
   "source": [
    "## Data Modeling"
   ]
  },
  {
   "cell_type": "code",
   "execution_count": null,
   "metadata": {
    "collapsed": true
   },
   "outputs": [],
   "source": [
    "## References\n",
    "# http://data.octo.dc.gov/Metadata.aspx?id=3"
   ]
  }
 ],
 "metadata": {
  "kernelspec": {
   "display_name": "Python 2",
   "language": "python",
   "name": "python2"
  },
  "language_info": {
   "codemirror_mode": {
    "name": "ipython",
    "version": 2
   },
   "file_extension": ".py",
   "mimetype": "text/x-python",
   "name": "python",
   "nbconvert_exporter": "python",
   "pygments_lexer": "ipython2",
   "version": "2.7.11"
  }
 },
 "nbformat": 4,
 "nbformat_minor": 0
}
