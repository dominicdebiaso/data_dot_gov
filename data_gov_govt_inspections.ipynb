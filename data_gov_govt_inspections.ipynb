{
 "cells": [
  {
   "cell_type": "code",
   "execution_count": 3,
   "metadata": {
    "collapsed": true
   },
   "outputs": [],
   "source": [
    "import os\n",
    "import pandas as pd"
   ]
  },
  {
   "cell_type": "code",
   "execution_count": 4,
   "metadata": {
    "collapsed": false
   },
   "outputs": [
    {
     "name": "stderr",
     "output_type": "stream",
     "text": [
      "/usr/local/lib/python2.7/site-packages/pandas/io/parsers.py:1164: DtypeWarning: Columns (2,3,4,5,6) have mixed types. Specify dtype option on import or set low_memory=False.\n",
      "  data = self._reader.read(nrows)\n",
      "/usr/local/lib/python2.7/site-packages/pandas/io/parsers.py:1164: DtypeWarning: Columns (11) have mixed types. Specify dtype option on import or set low_memory=False.\n",
      "  data = self._reader.read(nrows)\n"
     ]
    }
   ],
   "source": [
    "mypath = '/Users/dominicdebiaso/Development/datasets/'\n",
    "\n",
    "# Data sets retrieved from data.gov via 'inspections/inspector' search\n",
    "building = pd.read_csv(mypath + 'Building_and_Safety_Inspections.csv')\n",
    "environmental = pd.read_csv(mypath + 'CDPH_Environmental_Inspections.csv')\n",
    "food = pd.read_csv(mypath + 'Food_Inspections.csv')\n",
    "housing = pd.read_csv(mypath + 'Housing_Maintenance_Code_Complaints.csv')"
   ]
  },
  {
   "cell_type": "code",
   "execution_count": 9,
   "metadata": {
    "collapsed": false
   },
   "outputs": [
    {
     "data": {
      "text/html": [
       "<div style=\"max-height:1000px;max-width:1500px;overflow:auto;\">\n",
       "<table border=\"1\" class=\"dataframe\">\n",
       "  <thead>\n",
       "    <tr style=\"text-align: right;\">\n",
       "      <th></th>\n",
       "      <th>ComplaintID</th>\n",
       "      <th>BuildingID</th>\n",
       "      <th>BoroughID</th>\n",
       "      <th>Borough</th>\n",
       "      <th>HouseNumber</th>\n",
       "      <th>StreetName</th>\n",
       "      <th>Zip</th>\n",
       "      <th>Block</th>\n",
       "      <th>Lot</th>\n",
       "      <th>Apartment</th>\n",
       "      <th>CommunityBoard</th>\n",
       "      <th>ReceivedDate</th>\n",
       "      <th>StatusID</th>\n",
       "      <th>Status</th>\n",
       "      <th>StatusDate</th>\n",
       "    </tr>\n",
       "  </thead>\n",
       "  <tbody>\n",
       "    <tr>\n",
       "      <th>0</th>\n",
       "      <td>6960137</td>\n",
       "      <td>3418</td>\n",
       "      <td>1</td>\n",
       "      <td>MANHATTAN</td>\n",
       "      <td>1989</td>\n",
       "      <td>ADAM C POWELL BOULEVARD</td>\n",
       "      <td>10026</td>\n",
       "      <td>1904</td>\n",
       "      <td>4</td>\n",
       "      <td>12D</td>\n",
       "      <td>10</td>\n",
       "      <td>07/07/2014</td>\n",
       "      <td>2</td>\n",
       "      <td>CLOSE</td>\n",
       "      <td>07/29/2014</td>\n",
       "    </tr>\n",
       "    <tr>\n",
       "      <th>1</th>\n",
       "      <td>6960832</td>\n",
       "      <td>3512</td>\n",
       "      <td>1</td>\n",
       "      <td>MANHATTAN</td>\n",
       "      <td>2267</td>\n",
       "      <td>ADAM C POWELL BOULEVARD</td>\n",
       "      <td>10030</td>\n",
       "      <td>1918</td>\n",
       "      <td>4</td>\n",
       "      <td>3B</td>\n",
       "      <td>10</td>\n",
       "      <td>07/08/2014</td>\n",
       "      <td>2</td>\n",
       "      <td>CLOSE</td>\n",
       "      <td>07/12/2014</td>\n",
       "    </tr>\n",
       "    <tr>\n",
       "      <th>2</th>\n",
       "      <td>6946867</td>\n",
       "      <td>5318</td>\n",
       "      <td>1</td>\n",
       "      <td>MANHATTAN</td>\n",
       "      <td>778</td>\n",
       "      <td>11 AVENUE</td>\n",
       "      <td>10019</td>\n",
       "      <td>1083</td>\n",
       "      <td>1</td>\n",
       "      <td>4P</td>\n",
       "      <td>4</td>\n",
       "      <td>06/19/2014</td>\n",
       "      <td>2</td>\n",
       "      <td>CLOSE</td>\n",
       "      <td>07/13/2014</td>\n",
       "    </tr>\n",
       "    <tr>\n",
       "      <th>3</th>\n",
       "      <td>6966946</td>\n",
       "      <td>5608</td>\n",
       "      <td>1</td>\n",
       "      <td>MANHATTAN</td>\n",
       "      <td>1640</td>\n",
       "      <td>AMSTERDAM AVENUE</td>\n",
       "      <td>10031</td>\n",
       "      <td>2073</td>\n",
       "      <td>29</td>\n",
       "      <td>5A</td>\n",
       "      <td>9</td>\n",
       "      <td>07/16/2014</td>\n",
       "      <td>2</td>\n",
       "      <td>CLOSE</td>\n",
       "      <td>07/21/2014</td>\n",
       "    </tr>\n",
       "    <tr>\n",
       "      <th>4</th>\n",
       "      <td>6963755</td>\n",
       "      <td>7851</td>\n",
       "      <td>1</td>\n",
       "      <td>MANHATTAN</td>\n",
       "      <td>2586</td>\n",
       "      <td>BROADWAY</td>\n",
       "      <td>10025</td>\n",
       "      <td>1869</td>\n",
       "      <td>44</td>\n",
       "      <td>2B</td>\n",
       "      <td>7</td>\n",
       "      <td>07/11/2014</td>\n",
       "      <td>2</td>\n",
       "      <td>CLOSE</td>\n",
       "      <td>09/11/2014</td>\n",
       "    </tr>\n",
       "  </tbody>\n",
       "</table>\n",
       "</div>"
      ],
      "text/plain": [
       "   ComplaintID  BuildingID  BoroughID    Borough HouseNumber  \\\n",
       "0      6960137        3418          1  MANHATTAN        1989   \n",
       "1      6960832        3512          1  MANHATTAN        2267   \n",
       "2      6946867        5318          1  MANHATTAN         778   \n",
       "3      6966946        5608          1  MANHATTAN        1640   \n",
       "4      6963755        7851          1  MANHATTAN        2586   \n",
       "\n",
       "                StreetName    Zip  Block  Lot Apartment  CommunityBoard  \\\n",
       "0  ADAM C POWELL BOULEVARD  10026   1904    4       12D              10   \n",
       "1  ADAM C POWELL BOULEVARD  10030   1918    4        3B              10   \n",
       "2                11 AVENUE  10019   1083    1        4P               4   \n",
       "3         AMSTERDAM AVENUE  10031   2073   29        5A               9   \n",
       "4                 BROADWAY  10025   1869   44        2B               7   \n",
       "\n",
       "  ReceivedDate  StatusID Status  StatusDate  \n",
       "0   07/07/2014         2  CLOSE  07/29/2014  \n",
       "1   07/08/2014         2  CLOSE  07/12/2014  \n",
       "2   06/19/2014         2  CLOSE  07/13/2014  \n",
       "3   07/16/2014         2  CLOSE  07/21/2014  \n",
       "4   07/11/2014         2  CLOSE  09/11/2014  "
      ]
     },
     "execution_count": 9,
     "metadata": {},
     "output_type": "execute_result"
    }
   ],
   "source": [
    "housing.head()"
   ]
  },
  {
   "cell_type": "code",
   "execution_count": null,
   "metadata": {
    "collapsed": true
   },
   "outputs": [],
   "source": []
  }
 ],
 "metadata": {
  "kernelspec": {
   "display_name": "Python 2",
   "language": "python",
   "name": "python2"
  },
  "language_info": {
   "codemirror_mode": {
    "name": "ipython",
    "version": 2
   },
   "file_extension": ".py",
   "mimetype": "text/x-python",
   "name": "python",
   "nbconvert_exporter": "python",
   "pygments_lexer": "ipython2",
   "version": "2.7.11"
  }
 },
 "nbformat": 4,
 "nbformat_minor": 0
}
